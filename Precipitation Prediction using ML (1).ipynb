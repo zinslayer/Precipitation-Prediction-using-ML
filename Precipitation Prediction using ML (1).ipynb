{
 "cells": [
  {
   "cell_type": "code",
   "execution_count": 95,
   "id": "7a836ac5",
   "metadata": {},
   "outputs": [
    {
     "data": {
      "text/html": [
       "<div>\n",
       "<style scoped>\n",
       "    .dataframe tbody tr th:only-of-type {\n",
       "        vertical-align: middle;\n",
       "    }\n",
       "\n",
       "    .dataframe tbody tr th {\n",
       "        vertical-align: top;\n",
       "    }\n",
       "\n",
       "    .dataframe thead th {\n",
       "        text-align: right;\n",
       "    }\n",
       "</style>\n",
       "<table border=\"1\" class=\"dataframe\">\n",
       "  <thead>\n",
       "    <tr style=\"text-align: right;\">\n",
       "      <th></th>\n",
       "      <th>STATION</th>\n",
       "      <th>NAME</th>\n",
       "      <th>DATE</th>\n",
       "      <th>AWND</th>\n",
       "      <th>PGTM</th>\n",
       "      <th>PRCP</th>\n",
       "      <th>TAVG</th>\n",
       "      <th>TMAX</th>\n",
       "      <th>TMIN</th>\n",
       "      <th>WDF2</th>\n",
       "      <th>WDF5</th>\n",
       "      <th>WSF2</th>\n",
       "      <th>WSF5</th>\n",
       "      <th>WT01</th>\n",
       "      <th>WT02</th>\n",
       "      <th>WT08</th>\n",
       "    </tr>\n",
       "  </thead>\n",
       "  <tbody>\n",
       "    <tr>\n",
       "      <th>0</th>\n",
       "      <td>USW00093134</td>\n",
       "      <td>LOS ANGELES DOWNTOWN USC, CA US</td>\n",
       "      <td>2016-01-01</td>\n",
       "      <td>2.46</td>\n",
       "      <td>NaN</td>\n",
       "      <td>0.00</td>\n",
       "      <td>NaN</td>\n",
       "      <td>64</td>\n",
       "      <td>43</td>\n",
       "      <td>10.0</td>\n",
       "      <td>30.0</td>\n",
       "      <td>8.1</td>\n",
       "      <td>11.0</td>\n",
       "      <td>NaN</td>\n",
       "      <td>NaN</td>\n",
       "      <td>1.0</td>\n",
       "    </tr>\n",
       "    <tr>\n",
       "      <th>1</th>\n",
       "      <td>USW00093134</td>\n",
       "      <td>LOS ANGELES DOWNTOWN USC, CA US</td>\n",
       "      <td>2016-01-02</td>\n",
       "      <td>2.01</td>\n",
       "      <td>NaN</td>\n",
       "      <td>0.00</td>\n",
       "      <td>NaN</td>\n",
       "      <td>65</td>\n",
       "      <td>47</td>\n",
       "      <td>270.0</td>\n",
       "      <td>30.0</td>\n",
       "      <td>6.0</td>\n",
       "      <td>8.9</td>\n",
       "      <td>NaN</td>\n",
       "      <td>NaN</td>\n",
       "      <td>NaN</td>\n",
       "    </tr>\n",
       "    <tr>\n",
       "      <th>2</th>\n",
       "      <td>USW00093134</td>\n",
       "      <td>LOS ANGELES DOWNTOWN USC, CA US</td>\n",
       "      <td>2016-01-03</td>\n",
       "      <td>0.67</td>\n",
       "      <td>NaN</td>\n",
       "      <td>0.00</td>\n",
       "      <td>NaN</td>\n",
       "      <td>62</td>\n",
       "      <td>44</td>\n",
       "      <td>150.0</td>\n",
       "      <td>150.0</td>\n",
       "      <td>10.1</td>\n",
       "      <td>14.1</td>\n",
       "      <td>NaN</td>\n",
       "      <td>NaN</td>\n",
       "      <td>NaN</td>\n",
       "    </tr>\n",
       "    <tr>\n",
       "      <th>3</th>\n",
       "      <td>USW00093134</td>\n",
       "      <td>LOS ANGELES DOWNTOWN USC, CA US</td>\n",
       "      <td>2016-01-04</td>\n",
       "      <td>1.34</td>\n",
       "      <td>NaN</td>\n",
       "      <td>0.01</td>\n",
       "      <td>NaN</td>\n",
       "      <td>69</td>\n",
       "      <td>55</td>\n",
       "      <td>270.0</td>\n",
       "      <td>280.0</td>\n",
       "      <td>8.1</td>\n",
       "      <td>14.1</td>\n",
       "      <td>NaN</td>\n",
       "      <td>NaN</td>\n",
       "      <td>NaN</td>\n",
       "    </tr>\n",
       "    <tr>\n",
       "      <th>4</th>\n",
       "      <td>USW00093134</td>\n",
       "      <td>LOS ANGELES DOWNTOWN USC, CA US</td>\n",
       "      <td>2016-01-05</td>\n",
       "      <td>2.46</td>\n",
       "      <td>NaN</td>\n",
       "      <td>1.61</td>\n",
       "      <td>NaN</td>\n",
       "      <td>59</td>\n",
       "      <td>49</td>\n",
       "      <td>140.0</td>\n",
       "      <td>140.0</td>\n",
       "      <td>10.1</td>\n",
       "      <td>16.1</td>\n",
       "      <td>1.0</td>\n",
       "      <td>1.0</td>\n",
       "      <td>NaN</td>\n",
       "    </tr>\n",
       "    <tr>\n",
       "      <th>5</th>\n",
       "      <td>USW00093134</td>\n",
       "      <td>LOS ANGELES DOWNTOWN USC, CA US</td>\n",
       "      <td>2016-01-06</td>\n",
       "      <td>2.91</td>\n",
       "      <td>NaN</td>\n",
       "      <td>0.80</td>\n",
       "      <td>NaN</td>\n",
       "      <td>58</td>\n",
       "      <td>46</td>\n",
       "      <td>80.0</td>\n",
       "      <td>290.0</td>\n",
       "      <td>12.1</td>\n",
       "      <td>17.0</td>\n",
       "      <td>1.0</td>\n",
       "      <td>NaN</td>\n",
       "      <td>NaN</td>\n",
       "    </tr>\n",
       "    <tr>\n",
       "      <th>6</th>\n",
       "      <td>USW00093134</td>\n",
       "      <td>LOS ANGELES DOWNTOWN USC, CA US</td>\n",
       "      <td>2016-01-07</td>\n",
       "      <td>1.79</td>\n",
       "      <td>NaN</td>\n",
       "      <td>0.30</td>\n",
       "      <td>NaN</td>\n",
       "      <td>59</td>\n",
       "      <td>45</td>\n",
       "      <td>20.0</td>\n",
       "      <td>10.0</td>\n",
       "      <td>10.1</td>\n",
       "      <td>18.1</td>\n",
       "      <td>1.0</td>\n",
       "      <td>NaN</td>\n",
       "      <td>NaN</td>\n",
       "    </tr>\n",
       "  </tbody>\n",
       "</table>\n",
       "</div>"
      ],
      "text/plain": [
       "       STATION                             NAME        DATE  AWND  PGTM  PRCP  \\\n",
       "0  USW00093134  LOS ANGELES DOWNTOWN USC, CA US  2016-01-01  2.46   NaN  0.00   \n",
       "1  USW00093134  LOS ANGELES DOWNTOWN USC, CA US  2016-01-02  2.01   NaN  0.00   \n",
       "2  USW00093134  LOS ANGELES DOWNTOWN USC, CA US  2016-01-03  0.67   NaN  0.00   \n",
       "3  USW00093134  LOS ANGELES DOWNTOWN USC, CA US  2016-01-04  1.34   NaN  0.01   \n",
       "4  USW00093134  LOS ANGELES DOWNTOWN USC, CA US  2016-01-05  2.46   NaN  1.61   \n",
       "5  USW00093134  LOS ANGELES DOWNTOWN USC, CA US  2016-01-06  2.91   NaN  0.80   \n",
       "6  USW00093134  LOS ANGELES DOWNTOWN USC, CA US  2016-01-07  1.79   NaN  0.30   \n",
       "\n",
       "   TAVG  TMAX  TMIN   WDF2   WDF5  WSF2  WSF5  WT01  WT02  WT08  \n",
       "0   NaN    64    43   10.0   30.0   8.1  11.0   NaN   NaN   1.0  \n",
       "1   NaN    65    47  270.0   30.0   6.0   8.9   NaN   NaN   NaN  \n",
       "2   NaN    62    44  150.0  150.0  10.1  14.1   NaN   NaN   NaN  \n",
       "3   NaN    69    55  270.0  280.0   8.1  14.1   NaN   NaN   NaN  \n",
       "4   NaN    59    49  140.0  140.0  10.1  16.1   1.0   1.0   NaN  \n",
       "5   NaN    58    46   80.0  290.0  12.1  17.0   1.0   NaN   NaN  \n",
       "6   NaN    59    45   20.0   10.0  10.1  18.1   1.0   NaN   NaN  "
      ]
     },
     "execution_count": 95,
     "metadata": {},
     "output_type": "execute_result"
    }
   ],
   "source": [
    "import pandas as pd\n",
    "import numpy as np\n",
    "import matplotlib.pyplot as plt \n",
    "from sklearn import linear_model\n",
    "import seaborn as sns\n",
    "df= pd.read_csv(r\"C:./Desktop/dataset.csv\")\n",
    "df.head(7)\n",
    "\n"
   ]
  },
  {
   "cell_type": "markdown",
   "id": "cb9b70fa",
   "metadata": {},
   "source": [
    "# # Replacing the values of PRCP column"
   ]
  },
  {
   "cell_type": "code",
   "execution_count": 96,
   "id": "d82b741f",
   "metadata": {},
   "outputs": [],
   "source": [
    "df_new=df.drop(['PRCP'], axis = 1)"
   ]
  },
  {
   "cell_type": "code",
   "execution_count": 150,
   "id": "93ffbb84",
   "metadata": {},
   "outputs": [],
   "source": [
    "df_replace = df['PRCP'].tolist()\n",
    "#df_replace"
   ]
  },
  {
   "cell_type": "code",
   "execution_count": 151,
   "id": "99760ea2",
   "metadata": {},
   "outputs": [],
   "source": [
    " for n, i in enumerate(df_replace):\n",
    "...   if i == 0.0:\n",
    "...      df_replace[n] = 0\n",
    " for n, i in enumerate(df_replace):\n",
    "...   if i != 0:\n",
    "...      df_replace[n] = 1     "
   ]
  },
  {
   "cell_type": "code",
   "execution_count": 152,
   "id": "ee3790a8",
   "metadata": {},
   "outputs": [],
   "source": [
    "#df_replace"
   ]
  },
  {
   "cell_type": "code",
   "execution_count": 100,
   "id": "af882fd0",
   "metadata": {},
   "outputs": [
    {
     "data": {
      "text/html": [
       "<div>\n",
       "<style scoped>\n",
       "    .dataframe tbody tr th:only-of-type {\n",
       "        vertical-align: middle;\n",
       "    }\n",
       "\n",
       "    .dataframe tbody tr th {\n",
       "        vertical-align: top;\n",
       "    }\n",
       "\n",
       "    .dataframe thead th {\n",
       "        text-align: right;\n",
       "    }\n",
       "</style>\n",
       "<table border=\"1\" class=\"dataframe\">\n",
       "  <thead>\n",
       "    <tr style=\"text-align: right;\">\n",
       "      <th></th>\n",
       "      <th>0</th>\n",
       "    </tr>\n",
       "  </thead>\n",
       "  <tbody>\n",
       "    <tr>\n",
       "      <th>0</th>\n",
       "      <td>0</td>\n",
       "    </tr>\n",
       "    <tr>\n",
       "      <th>1</th>\n",
       "      <td>0</td>\n",
       "    </tr>\n",
       "    <tr>\n",
       "      <th>2</th>\n",
       "      <td>0</td>\n",
       "    </tr>\n",
       "    <tr>\n",
       "      <th>3</th>\n",
       "      <td>1</td>\n",
       "    </tr>\n",
       "    <tr>\n",
       "      <th>4</th>\n",
       "      <td>1</td>\n",
       "    </tr>\n",
       "    <tr>\n",
       "      <th>...</th>\n",
       "      <td>...</td>\n",
       "    </tr>\n",
       "    <tr>\n",
       "      <th>1822</th>\n",
       "      <td>1</td>\n",
       "    </tr>\n",
       "    <tr>\n",
       "      <th>1823</th>\n",
       "      <td>1</td>\n",
       "    </tr>\n",
       "    <tr>\n",
       "      <th>1824</th>\n",
       "      <td>0</td>\n",
       "    </tr>\n",
       "    <tr>\n",
       "      <th>1825</th>\n",
       "      <td>0</td>\n",
       "    </tr>\n",
       "    <tr>\n",
       "      <th>1826</th>\n",
       "      <td>0</td>\n",
       "    </tr>\n",
       "  </tbody>\n",
       "</table>\n",
       "<p>1827 rows × 1 columns</p>\n",
       "</div>"
      ],
      "text/plain": [
       "      0\n",
       "0     0\n",
       "1     0\n",
       "2     0\n",
       "3     1\n",
       "4     1\n",
       "...  ..\n",
       "1822  1\n",
       "1823  1\n",
       "1824  0\n",
       "1825  0\n",
       "1826  0\n",
       "\n",
       "[1827 rows x 1 columns]"
      ]
     },
     "execution_count": 100,
     "metadata": {},
     "output_type": "execute_result"
    }
   ],
   "source": [
    "df_replace=pd.DataFrame(df_replace)\n",
    "df_replace"
   ]
  },
  {
   "cell_type": "code",
   "execution_count": 101,
   "id": "e60ed3ea",
   "metadata": {},
   "outputs": [],
   "source": [
    "df=df_new.join(df_replace)\n",
    "df.columns = ['STATION', 'NAME','DATE',\"AWND\",'PGTM','TAVG',\t'TMAX',\t'TMIN',\t'WDF2',\t'WDF5',\t'WSF2',\t'WSF5',\t'WT01',\t'WT02',\t'WT08','PRCP']"
   ]
  },
  {
   "cell_type": "code",
   "execution_count": 102,
   "id": "afbfc0f9",
   "metadata": {},
   "outputs": [
    {
     "data": {
      "text/html": [
       "<div>\n",
       "<style scoped>\n",
       "    .dataframe tbody tr th:only-of-type {\n",
       "        vertical-align: middle;\n",
       "    }\n",
       "\n",
       "    .dataframe tbody tr th {\n",
       "        vertical-align: top;\n",
       "    }\n",
       "\n",
       "    .dataframe thead th {\n",
       "        text-align: right;\n",
       "    }\n",
       "</style>\n",
       "<table border=\"1\" class=\"dataframe\">\n",
       "  <thead>\n",
       "    <tr style=\"text-align: right;\">\n",
       "      <th></th>\n",
       "      <th>STATION</th>\n",
       "      <th>NAME</th>\n",
       "      <th>DATE</th>\n",
       "      <th>AWND</th>\n",
       "      <th>PGTM</th>\n",
       "      <th>TAVG</th>\n",
       "      <th>TMAX</th>\n",
       "      <th>TMIN</th>\n",
       "      <th>WDF2</th>\n",
       "      <th>WDF5</th>\n",
       "      <th>WSF2</th>\n",
       "      <th>WSF5</th>\n",
       "      <th>WT01</th>\n",
       "      <th>WT02</th>\n",
       "      <th>WT08</th>\n",
       "      <th>PRCP</th>\n",
       "    </tr>\n",
       "  </thead>\n",
       "  <tbody>\n",
       "    <tr>\n",
       "      <th>0</th>\n",
       "      <td>USW00093134</td>\n",
       "      <td>LOS ANGELES DOWNTOWN USC, CA US</td>\n",
       "      <td>2016-01-01</td>\n",
       "      <td>2.46</td>\n",
       "      <td>NaN</td>\n",
       "      <td>NaN</td>\n",
       "      <td>64</td>\n",
       "      <td>43</td>\n",
       "      <td>10.0</td>\n",
       "      <td>30.0</td>\n",
       "      <td>8.1</td>\n",
       "      <td>11.0</td>\n",
       "      <td>NaN</td>\n",
       "      <td>NaN</td>\n",
       "      <td>1.0</td>\n",
       "      <td>0</td>\n",
       "    </tr>\n",
       "    <tr>\n",
       "      <th>1</th>\n",
       "      <td>USW00093134</td>\n",
       "      <td>LOS ANGELES DOWNTOWN USC, CA US</td>\n",
       "      <td>2016-01-02</td>\n",
       "      <td>2.01</td>\n",
       "      <td>NaN</td>\n",
       "      <td>NaN</td>\n",
       "      <td>65</td>\n",
       "      <td>47</td>\n",
       "      <td>270.0</td>\n",
       "      <td>30.0</td>\n",
       "      <td>6.0</td>\n",
       "      <td>8.9</td>\n",
       "      <td>NaN</td>\n",
       "      <td>NaN</td>\n",
       "      <td>NaN</td>\n",
       "      <td>0</td>\n",
       "    </tr>\n",
       "    <tr>\n",
       "      <th>2</th>\n",
       "      <td>USW00093134</td>\n",
       "      <td>LOS ANGELES DOWNTOWN USC, CA US</td>\n",
       "      <td>2016-01-03</td>\n",
       "      <td>0.67</td>\n",
       "      <td>NaN</td>\n",
       "      <td>NaN</td>\n",
       "      <td>62</td>\n",
       "      <td>44</td>\n",
       "      <td>150.0</td>\n",
       "      <td>150.0</td>\n",
       "      <td>10.1</td>\n",
       "      <td>14.1</td>\n",
       "      <td>NaN</td>\n",
       "      <td>NaN</td>\n",
       "      <td>NaN</td>\n",
       "      <td>0</td>\n",
       "    </tr>\n",
       "    <tr>\n",
       "      <th>3</th>\n",
       "      <td>USW00093134</td>\n",
       "      <td>LOS ANGELES DOWNTOWN USC, CA US</td>\n",
       "      <td>2016-01-04</td>\n",
       "      <td>1.34</td>\n",
       "      <td>NaN</td>\n",
       "      <td>NaN</td>\n",
       "      <td>69</td>\n",
       "      <td>55</td>\n",
       "      <td>270.0</td>\n",
       "      <td>280.0</td>\n",
       "      <td>8.1</td>\n",
       "      <td>14.1</td>\n",
       "      <td>NaN</td>\n",
       "      <td>NaN</td>\n",
       "      <td>NaN</td>\n",
       "      <td>1</td>\n",
       "    </tr>\n",
       "    <tr>\n",
       "      <th>4</th>\n",
       "      <td>USW00093134</td>\n",
       "      <td>LOS ANGELES DOWNTOWN USC, CA US</td>\n",
       "      <td>2016-01-05</td>\n",
       "      <td>2.46</td>\n",
       "      <td>NaN</td>\n",
       "      <td>NaN</td>\n",
       "      <td>59</td>\n",
       "      <td>49</td>\n",
       "      <td>140.0</td>\n",
       "      <td>140.0</td>\n",
       "      <td>10.1</td>\n",
       "      <td>16.1</td>\n",
       "      <td>1.0</td>\n",
       "      <td>1.0</td>\n",
       "      <td>NaN</td>\n",
       "      <td>1</td>\n",
       "    </tr>\n",
       "    <tr>\n",
       "      <th>...</th>\n",
       "      <td>...</td>\n",
       "      <td>...</td>\n",
       "      <td>...</td>\n",
       "      <td>...</td>\n",
       "      <td>...</td>\n",
       "      <td>...</td>\n",
       "      <td>...</td>\n",
       "      <td>...</td>\n",
       "      <td>...</td>\n",
       "      <td>...</td>\n",
       "      <td>...</td>\n",
       "      <td>...</td>\n",
       "      <td>...</td>\n",
       "      <td>...</td>\n",
       "      <td>...</td>\n",
       "      <td>...</td>\n",
       "    </tr>\n",
       "    <tr>\n",
       "      <th>1822</th>\n",
       "      <td>USW00093134</td>\n",
       "      <td>LOS ANGELES DOWNTOWN USC, CA US</td>\n",
       "      <td>2020-12-27</td>\n",
       "      <td>1.12</td>\n",
       "      <td>NaN</td>\n",
       "      <td>NaN</td>\n",
       "      <td>66</td>\n",
       "      <td>55</td>\n",
       "      <td>270.0</td>\n",
       "      <td>260.0</td>\n",
       "      <td>8.9</td>\n",
       "      <td>18.1</td>\n",
       "      <td>1.0</td>\n",
       "      <td>NaN</td>\n",
       "      <td>1.0</td>\n",
       "      <td>1</td>\n",
       "    </tr>\n",
       "    <tr>\n",
       "      <th>1823</th>\n",
       "      <td>USW00093134</td>\n",
       "      <td>LOS ANGELES DOWNTOWN USC, CA US</td>\n",
       "      <td>2020-12-28</td>\n",
       "      <td>4.70</td>\n",
       "      <td>NaN</td>\n",
       "      <td>NaN</td>\n",
       "      <td>56</td>\n",
       "      <td>47</td>\n",
       "      <td>90.0</td>\n",
       "      <td>260.0</td>\n",
       "      <td>14.1</td>\n",
       "      <td>21.0</td>\n",
       "      <td>1.0</td>\n",
       "      <td>NaN</td>\n",
       "      <td>NaN</td>\n",
       "      <td>1</td>\n",
       "    </tr>\n",
       "    <tr>\n",
       "      <th>1824</th>\n",
       "      <td>USW00093134</td>\n",
       "      <td>LOS ANGELES DOWNTOWN USC, CA US</td>\n",
       "      <td>2020-12-29</td>\n",
       "      <td>1.57</td>\n",
       "      <td>NaN</td>\n",
       "      <td>NaN</td>\n",
       "      <td>65</td>\n",
       "      <td>42</td>\n",
       "      <td>340.0</td>\n",
       "      <td>360.0</td>\n",
       "      <td>10.1</td>\n",
       "      <td>18.1</td>\n",
       "      <td>NaN</td>\n",
       "      <td>NaN</td>\n",
       "      <td>NaN</td>\n",
       "      <td>0</td>\n",
       "    </tr>\n",
       "    <tr>\n",
       "      <th>1825</th>\n",
       "      <td>USW00093134</td>\n",
       "      <td>LOS ANGELES DOWNTOWN USC, CA US</td>\n",
       "      <td>2020-12-30</td>\n",
       "      <td>0.45</td>\n",
       "      <td>NaN</td>\n",
       "      <td>NaN</td>\n",
       "      <td>69</td>\n",
       "      <td>44</td>\n",
       "      <td>260.0</td>\n",
       "      <td>260.0</td>\n",
       "      <td>6.9</td>\n",
       "      <td>12.1</td>\n",
       "      <td>NaN</td>\n",
       "      <td>NaN</td>\n",
       "      <td>NaN</td>\n",
       "      <td>0</td>\n",
       "    </tr>\n",
       "    <tr>\n",
       "      <th>1826</th>\n",
       "      <td>USW00093134</td>\n",
       "      <td>LOS ANGELES DOWNTOWN USC, CA US</td>\n",
       "      <td>2020-12-31</td>\n",
       "      <td>1.57</td>\n",
       "      <td>NaN</td>\n",
       "      <td>NaN</td>\n",
       "      <td>70</td>\n",
       "      <td>43</td>\n",
       "      <td>350.0</td>\n",
       "      <td>350.0</td>\n",
       "      <td>12.1</td>\n",
       "      <td>19.9</td>\n",
       "      <td>NaN</td>\n",
       "      <td>NaN</td>\n",
       "      <td>NaN</td>\n",
       "      <td>0</td>\n",
       "    </tr>\n",
       "  </tbody>\n",
       "</table>\n",
       "<p>1827 rows × 16 columns</p>\n",
       "</div>"
      ],
      "text/plain": [
       "          STATION                             NAME        DATE  AWND  PGTM  \\\n",
       "0     USW00093134  LOS ANGELES DOWNTOWN USC, CA US  2016-01-01  2.46   NaN   \n",
       "1     USW00093134  LOS ANGELES DOWNTOWN USC, CA US  2016-01-02  2.01   NaN   \n",
       "2     USW00093134  LOS ANGELES DOWNTOWN USC, CA US  2016-01-03  0.67   NaN   \n",
       "3     USW00093134  LOS ANGELES DOWNTOWN USC, CA US  2016-01-04  1.34   NaN   \n",
       "4     USW00093134  LOS ANGELES DOWNTOWN USC, CA US  2016-01-05  2.46   NaN   \n",
       "...           ...                              ...         ...   ...   ...   \n",
       "1822  USW00093134  LOS ANGELES DOWNTOWN USC, CA US  2020-12-27  1.12   NaN   \n",
       "1823  USW00093134  LOS ANGELES DOWNTOWN USC, CA US  2020-12-28  4.70   NaN   \n",
       "1824  USW00093134  LOS ANGELES DOWNTOWN USC, CA US  2020-12-29  1.57   NaN   \n",
       "1825  USW00093134  LOS ANGELES DOWNTOWN USC, CA US  2020-12-30  0.45   NaN   \n",
       "1826  USW00093134  LOS ANGELES DOWNTOWN USC, CA US  2020-12-31  1.57   NaN   \n",
       "\n",
       "      TAVG  TMAX  TMIN   WDF2   WDF5  WSF2  WSF5  WT01  WT02  WT08  PRCP  \n",
       "0      NaN    64    43   10.0   30.0   8.1  11.0   NaN   NaN   1.0     0  \n",
       "1      NaN    65    47  270.0   30.0   6.0   8.9   NaN   NaN   NaN     0  \n",
       "2      NaN    62    44  150.0  150.0  10.1  14.1   NaN   NaN   NaN     0  \n",
       "3      NaN    69    55  270.0  280.0   8.1  14.1   NaN   NaN   NaN     1  \n",
       "4      NaN    59    49  140.0  140.0  10.1  16.1   1.0   1.0   NaN     1  \n",
       "...    ...   ...   ...    ...    ...   ...   ...   ...   ...   ...   ...  \n",
       "1822   NaN    66    55  270.0  260.0   8.9  18.1   1.0   NaN   1.0     1  \n",
       "1823   NaN    56    47   90.0  260.0  14.1  21.0   1.0   NaN   NaN     1  \n",
       "1824   NaN    65    42  340.0  360.0  10.1  18.1   NaN   NaN   NaN     0  \n",
       "1825   NaN    69    44  260.0  260.0   6.9  12.1   NaN   NaN   NaN     0  \n",
       "1826   NaN    70    43  350.0  350.0  12.1  19.9   NaN   NaN   NaN     0  \n",
       "\n",
       "[1827 rows x 16 columns]"
      ]
     },
     "execution_count": 102,
     "metadata": {},
     "output_type": "execute_result"
    }
   ],
   "source": [
    "\n",
    "df\n"
   ]
  },
  {
   "cell_type": "markdown",
   "id": "6a67a6f0",
   "metadata": {},
   "source": [
    "# # Visualising the imbalance"
   ]
  },
  {
   "cell_type": "code",
   "execution_count": 103,
   "id": "ab675ada",
   "metadata": {},
   "outputs": [
    {
     "data": {
      "text/plain": [
       "<AxesSubplot:>"
      ]
     },
     "execution_count": 103,
     "metadata": {},
     "output_type": "execute_result"
    },
    {
     "data": {
      "image/png": "[encoded data removed]",
      "text/plain": [
       "<Figure size 432x288 with 1 Axes>"
      ]
     },
     "metadata": {
      "needs_background": "light"
     },
     "output_type": "display_data"
    }
   ],
   "source": [
    "df['PRCP'].value_counts().plot(kind='bar')"
   ]
  },
  {
   "cell_type": "code",
   "execution_count": 104,
   "id": "9a781c79",
   "metadata": {},
   "outputs": [],
   "source": [
    "df_class_0=df[df['PRCP']==0]\n",
    "df_class_1=df[df['PRCP']==1]"
   ]
  },
  {
   "cell_type": "code",
   "execution_count": 105,
   "id": "6bb30618",
   "metadata": {},
   "outputs": [
    {
     "data": {
      "text/plain": [
       "(1660, 167)"
      ]
     },
     "execution_count": 105,
     "metadata": {},
     "output_type": "execute_result"
    }
   ],
   "source": [
    "count_class_0,count_class_1=df.PRCP.value_counts()\n",
    "#df_class_1.sample(count_class_0,replace=True).shape\n",
    "count_class_0,count_class_1"
   ]
  },
  {
   "cell_type": "markdown",
   "id": "0c775681",
   "metadata": {},
   "source": [
    "# # overbalance the minority"
   ]
  },
  {
   "cell_type": "code",
   "execution_count": 106,
   "id": "7581adab",
   "metadata": {},
   "outputs": [],
   "source": [
    "from sklearn.utils import resample\n",
    "# Downsample majority class\n",
    "df_majority_downsampled = resample(df_class_0, \n",
    "                                 replace=False,    \n",
    "                                 n_samples=1000)\n",
    "#Upsample minority class\n",
    "df_minority_upsampled = resample(df_class_1, \n",
    "                                 replace=True,     \n",
    "                                 n_samples=1000)\n",
    "# Combine minority class with downsampled majority class\n",
    "df_up_down_sampled = pd.concat([df_majority_downsampled, df_minority_upsampled])"
   ]
  },
  {
   "cell_type": "code",
   "execution_count": 107,
   "id": "ad210c42",
   "metadata": {},
   "outputs": [
    {
     "data": {
      "text/plain": [
       "(1000, 16)"
      ]
     },
     "execution_count": 107,
     "metadata": {},
     "output_type": "execute_result"
    }
   ],
   "source": [
    "df_majority_downsampled.shape"
   ]
  },
  {
   "cell_type": "code",
   "execution_count": 108,
   "id": "9ea0fa0b",
   "metadata": {},
   "outputs": [
    {
     "data": {
      "text/plain": [
       "(1000, 16)"
      ]
     },
     "execution_count": 108,
     "metadata": {},
     "output_type": "execute_result"
    }
   ],
   "source": [
    "df_minority_upsampled.shape"
   ]
  },
  {
   "cell_type": "markdown",
   "id": "71e80d6f",
   "metadata": {},
   "source": [
    "# # Checking and droping the null values"
   ]
  },
  {
   "cell_type": "code",
   "execution_count": 109,
   "id": "54520090",
   "metadata": {},
   "outputs": [
    {
     "data": {
      "text/plain": [
       "STATION       0\n",
       "NAME          0\n",
       "DATE          0\n",
       "AWND          4\n",
       "PGTM       1765\n",
       "TAVG       1827\n",
       "TMAX          0\n",
       "TMIN          0\n",
       "WDF2          5\n",
       "WDF5         18\n",
       "WSF2          4\n",
       "WSF5         18\n",
       "WT01       1276\n",
       "WT02       1788\n",
       "WT08        966\n",
       "PRCP          0\n",
       "dtype: int64"
      ]
     },
     "execution_count": 109,
     "metadata": {},
     "output_type": "execute_result"
    }
   ],
   "source": [
    "df.isnull().sum()"
   ]
  },
  {
   "cell_type": "code",
   "execution_count": 110,
   "id": "ee6a5b76",
   "metadata": {},
   "outputs": [
    {
     "data": {
      "text/html": [
       "<div>\n",
       "<style scoped>\n",
       "    .dataframe tbody tr th:only-of-type {\n",
       "        vertical-align: middle;\n",
       "    }\n",
       "\n",
       "    .dataframe tbody tr th {\n",
       "        vertical-align: top;\n",
       "    }\n",
       "\n",
       "    .dataframe thead th {\n",
       "        text-align: right;\n",
       "    }\n",
       "</style>\n",
       "<table border=\"1\" class=\"dataframe\">\n",
       "  <thead>\n",
       "    <tr style=\"text-align: right;\">\n",
       "      <th></th>\n",
       "      <th>STATION</th>\n",
       "      <th>NAME</th>\n",
       "      <th>AWND</th>\n",
       "      <th>TMAX</th>\n",
       "      <th>TMIN</th>\n",
       "      <th>WDF2</th>\n",
       "      <th>WDF5</th>\n",
       "      <th>WSF2</th>\n",
       "      <th>WSF5</th>\n",
       "      <th>PRCP</th>\n",
       "    </tr>\n",
       "  </thead>\n",
       "  <tbody>\n",
       "    <tr>\n",
       "      <th>0</th>\n",
       "      <td>USW00093134</td>\n",
       "      <td>LOS ANGELES DOWNTOWN USC, CA US</td>\n",
       "      <td>2.46</td>\n",
       "      <td>64</td>\n",
       "      <td>43</td>\n",
       "      <td>10.0</td>\n",
       "      <td>30.0</td>\n",
       "      <td>8.1</td>\n",
       "      <td>11.0</td>\n",
       "      <td>0</td>\n",
       "    </tr>\n",
       "    <tr>\n",
       "      <th>1</th>\n",
       "      <td>USW00093134</td>\n",
       "      <td>LOS ANGELES DOWNTOWN USC, CA US</td>\n",
       "      <td>2.01</td>\n",
       "      <td>65</td>\n",
       "      <td>47</td>\n",
       "      <td>270.0</td>\n",
       "      <td>30.0</td>\n",
       "      <td>6.0</td>\n",
       "      <td>8.9</td>\n",
       "      <td>0</td>\n",
       "    </tr>\n",
       "    <tr>\n",
       "      <th>2</th>\n",
       "      <td>USW00093134</td>\n",
       "      <td>LOS ANGELES DOWNTOWN USC, CA US</td>\n",
       "      <td>0.67</td>\n",
       "      <td>62</td>\n",
       "      <td>44</td>\n",
       "      <td>150.0</td>\n",
       "      <td>150.0</td>\n",
       "      <td>10.1</td>\n",
       "      <td>14.1</td>\n",
       "      <td>0</td>\n",
       "    </tr>\n",
       "    <tr>\n",
       "      <th>3</th>\n",
       "      <td>USW00093134</td>\n",
       "      <td>LOS ANGELES DOWNTOWN USC, CA US</td>\n",
       "      <td>1.34</td>\n",
       "      <td>69</td>\n",
       "      <td>55</td>\n",
       "      <td>270.0</td>\n",
       "      <td>280.0</td>\n",
       "      <td>8.1</td>\n",
       "      <td>14.1</td>\n",
       "      <td>1</td>\n",
       "    </tr>\n",
       "    <tr>\n",
       "      <th>4</th>\n",
       "      <td>USW00093134</td>\n",
       "      <td>LOS ANGELES DOWNTOWN USC, CA US</td>\n",
       "      <td>2.46</td>\n",
       "      <td>59</td>\n",
       "      <td>49</td>\n",
       "      <td>140.0</td>\n",
       "      <td>140.0</td>\n",
       "      <td>10.1</td>\n",
       "      <td>16.1</td>\n",
       "      <td>1</td>\n",
       "    </tr>\n",
       "    <tr>\n",
       "      <th>...</th>\n",
       "      <td>...</td>\n",
       "      <td>...</td>\n",
       "      <td>...</td>\n",
       "      <td>...</td>\n",
       "      <td>...</td>\n",
       "      <td>...</td>\n",
       "      <td>...</td>\n",
       "      <td>...</td>\n",
       "      <td>...</td>\n",
       "      <td>...</td>\n",
       "    </tr>\n",
       "    <tr>\n",
       "      <th>1822</th>\n",
       "      <td>USW00093134</td>\n",
       "      <td>LOS ANGELES DOWNTOWN USC, CA US</td>\n",
       "      <td>1.12</td>\n",
       "      <td>66</td>\n",
       "      <td>55</td>\n",
       "      <td>270.0</td>\n",
       "      <td>260.0</td>\n",
       "      <td>8.9</td>\n",
       "      <td>18.1</td>\n",
       "      <td>1</td>\n",
       "    </tr>\n",
       "    <tr>\n",
       "      <th>1823</th>\n",
       "      <td>USW00093134</td>\n",
       "      <td>LOS ANGELES DOWNTOWN USC, CA US</td>\n",
       "      <td>4.70</td>\n",
       "      <td>56</td>\n",
       "      <td>47</td>\n",
       "      <td>90.0</td>\n",
       "      <td>260.0</td>\n",
       "      <td>14.1</td>\n",
       "      <td>21.0</td>\n",
       "      <td>1</td>\n",
       "    </tr>\n",
       "    <tr>\n",
       "      <th>1824</th>\n",
       "      <td>USW00093134</td>\n",
       "      <td>LOS ANGELES DOWNTOWN USC, CA US</td>\n",
       "      <td>1.57</td>\n",
       "      <td>65</td>\n",
       "      <td>42</td>\n",
       "      <td>340.0</td>\n",
       "      <td>360.0</td>\n",
       "      <td>10.1</td>\n",
       "      <td>18.1</td>\n",
       "      <td>0</td>\n",
       "    </tr>\n",
       "    <tr>\n",
       "      <th>1825</th>\n",
       "      <td>USW00093134</td>\n",
       "      <td>LOS ANGELES DOWNTOWN USC, CA US</td>\n",
       "      <td>0.45</td>\n",
       "      <td>69</td>\n",
       "      <td>44</td>\n",
       "      <td>260.0</td>\n",
       "      <td>260.0</td>\n",
       "      <td>6.9</td>\n",
       "      <td>12.1</td>\n",
       "      <td>0</td>\n",
       "    </tr>\n",
       "    <tr>\n",
       "      <th>1826</th>\n",
       "      <td>USW00093134</td>\n",
       "      <td>LOS ANGELES DOWNTOWN USC, CA US</td>\n",
       "      <td>1.57</td>\n",
       "      <td>70</td>\n",
       "      <td>43</td>\n",
       "      <td>350.0</td>\n",
       "      <td>350.0</td>\n",
       "      <td>12.1</td>\n",
       "      <td>19.9</td>\n",
       "      <td>0</td>\n",
       "    </tr>\n",
       "  </tbody>\n",
       "</table>\n",
       "<p>1827 rows × 10 columns</p>\n",
       "</div>"
      ],
      "text/plain": [
       "          STATION                             NAME  AWND  TMAX  TMIN   WDF2  \\\n",
       "0     USW00093134  LOS ANGELES DOWNTOWN USC, CA US  2.46    64    43   10.0   \n",
       "1     USW00093134  LOS ANGELES DOWNTOWN USC, CA US  2.01    65    47  270.0   \n",
       "2     USW00093134  LOS ANGELES DOWNTOWN USC, CA US  0.67    62    44  150.0   \n",
       "3     USW00093134  LOS ANGELES DOWNTOWN USC, CA US  1.34    69    55  270.0   \n",
       "4     USW00093134  LOS ANGELES DOWNTOWN USC, CA US  2.46    59    49  140.0   \n",
       "...           ...                              ...   ...   ...   ...    ...   \n",
       "1822  USW00093134  LOS ANGELES DOWNTOWN USC, CA US  1.12    66    55  270.0   \n",
       "1823  USW00093134  LOS ANGELES DOWNTOWN USC, CA US  4.70    56    47   90.0   \n",
       "1824  USW00093134  LOS ANGELES DOWNTOWN USC, CA US  1.57    65    42  340.0   \n",
       "1825  USW00093134  LOS ANGELES DOWNTOWN USC, CA US  0.45    69    44  260.0   \n",
       "1826  USW00093134  LOS ANGELES DOWNTOWN USC, CA US  1.57    70    43  350.0   \n",
       "\n",
       "       WDF5  WSF2  WSF5  PRCP  \n",
       "0      30.0   8.1  11.0     0  \n",
       "1      30.0   6.0   8.9     0  \n",
       "2     150.0  10.1  14.1     0  \n",
       "3     280.0   8.1  14.1     1  \n",
       "4     140.0  10.1  16.1     1  \n",
       "...     ...   ...   ...   ...  \n",
       "1822  260.0   8.9  18.1     1  \n",
       "1823  260.0  14.1  21.0     1  \n",
       "1824  360.0  10.1  18.1     0  \n",
       "1825  260.0   6.9  12.1     0  \n",
       "1826  350.0  12.1  19.9     0  \n",
       "\n",
       "[1827 rows x 10 columns]"
      ]
     },
     "execution_count": 110,
     "metadata": {},
     "output_type": "execute_result"
    }
   ],
   "source": [
    "df=df.drop(['DATE','PGTM','TAVG','WT01','WT02','WT08'], axis = 1)\n",
    "df"
   ]
  },
  {
   "cell_type": "code",
   "execution_count": 111,
   "id": "ea5784fe",
   "metadata": {},
   "outputs": [
    {
     "data": {
      "text/plain": [
       "STATION     0\n",
       "NAME        0\n",
       "AWND        4\n",
       "TMAX        0\n",
       "TMIN        0\n",
       "WDF2        5\n",
       "WDF5       18\n",
       "WSF2        4\n",
       "WSF5       18\n",
       "PRCP        0\n",
       "dtype: int64"
      ]
     },
     "execution_count": 111,
     "metadata": {},
     "output_type": "execute_result"
    }
   ],
   "source": [
    "df.isnull().sum()"
   ]
  },
  {
   "cell_type": "markdown",
   "id": "30ac2826",
   "metadata": {},
   "source": [
    "# # Converting the remaininng null values with mode\n"
   ]
  },
  {
   "cell_type": "code",
   "execution_count": 112,
   "id": "051d2618",
   "metadata": {},
   "outputs": [],
   "source": [
    "for column in ['AWND',\t'TMAX',\t'TMIN',\t'WDF2',\t'WDF5',\t'WSF2',\t'WSF5',\t'PRCP']:\n",
    "     df[column].fillna(df[column].mode()[0], inplace=True)"
   ]
  },
  {
   "cell_type": "code",
   "execution_count": 113,
   "id": "cebe3c30",
   "metadata": {},
   "outputs": [
    {
     "data": {
      "text/plain": [
       "STATION    0\n",
       "NAME       0\n",
       "AWND       0\n",
       "TMAX       0\n",
       "TMIN       0\n",
       "WDF2       0\n",
       "WDF5       0\n",
       "WSF2       0\n",
       "WSF5       0\n",
       "PRCP       0\n",
       "dtype: int64"
      ]
     },
     "execution_count": 113,
     "metadata": {},
     "output_type": "execute_result"
    }
   ],
   "source": [
    "df.isnull().sum()"
   ]
  },
  {
   "cell_type": "code",
   "execution_count": 114,
   "id": "d6d1f1ec",
   "metadata": {},
   "outputs": [
    {
     "data": {
      "text/html": [
       "<div>\n",
       "<style scoped>\n",
       "    .dataframe tbody tr th:only-of-type {\n",
       "        vertical-align: middle;\n",
       "    }\n",
       "\n",
       "    .dataframe tbody tr th {\n",
       "        vertical-align: top;\n",
       "    }\n",
       "\n",
       "    .dataframe thead th {\n",
       "        text-align: right;\n",
       "    }\n",
       "</style>\n",
       "<table border=\"1\" class=\"dataframe\">\n",
       "  <thead>\n",
       "    <tr style=\"text-align: right;\">\n",
       "      <th></th>\n",
       "      <th>STATION</th>\n",
       "      <th>NAME</th>\n",
       "      <th>AWND</th>\n",
       "      <th>TMAX</th>\n",
       "      <th>TMIN</th>\n",
       "      <th>WDF2</th>\n",
       "      <th>WDF5</th>\n",
       "      <th>WSF2</th>\n",
       "      <th>WSF5</th>\n",
       "      <th>PRCP</th>\n",
       "    </tr>\n",
       "  </thead>\n",
       "  <tbody>\n",
       "    <tr>\n",
       "      <th>0</th>\n",
       "      <td>USW00093134</td>\n",
       "      <td>LOS ANGELES DOWNTOWN USC, CA US</td>\n",
       "      <td>2.46</td>\n",
       "      <td>64</td>\n",
       "      <td>43</td>\n",
       "      <td>10.0</td>\n",
       "      <td>30.0</td>\n",
       "      <td>8.1</td>\n",
       "      <td>11.0</td>\n",
       "      <td>0</td>\n",
       "    </tr>\n",
       "    <tr>\n",
       "      <th>1</th>\n",
       "      <td>USW00093134</td>\n",
       "      <td>LOS ANGELES DOWNTOWN USC, CA US</td>\n",
       "      <td>2.01</td>\n",
       "      <td>65</td>\n",
       "      <td>47</td>\n",
       "      <td>270.0</td>\n",
       "      <td>30.0</td>\n",
       "      <td>6.0</td>\n",
       "      <td>8.9</td>\n",
       "      <td>0</td>\n",
       "    </tr>\n",
       "    <tr>\n",
       "      <th>2</th>\n",
       "      <td>USW00093134</td>\n",
       "      <td>LOS ANGELES DOWNTOWN USC, CA US</td>\n",
       "      <td>0.67</td>\n",
       "      <td>62</td>\n",
       "      <td>44</td>\n",
       "      <td>150.0</td>\n",
       "      <td>150.0</td>\n",
       "      <td>10.1</td>\n",
       "      <td>14.1</td>\n",
       "      <td>0</td>\n",
       "    </tr>\n",
       "    <tr>\n",
       "      <th>3</th>\n",
       "      <td>USW00093134</td>\n",
       "      <td>LOS ANGELES DOWNTOWN USC, CA US</td>\n",
       "      <td>1.34</td>\n",
       "      <td>69</td>\n",
       "      <td>55</td>\n",
       "      <td>270.0</td>\n",
       "      <td>280.0</td>\n",
       "      <td>8.1</td>\n",
       "      <td>14.1</td>\n",
       "      <td>1</td>\n",
       "    </tr>\n",
       "    <tr>\n",
       "      <th>4</th>\n",
       "      <td>USW00093134</td>\n",
       "      <td>LOS ANGELES DOWNTOWN USC, CA US</td>\n",
       "      <td>2.46</td>\n",
       "      <td>59</td>\n",
       "      <td>49</td>\n",
       "      <td>140.0</td>\n",
       "      <td>140.0</td>\n",
       "      <td>10.1</td>\n",
       "      <td>16.1</td>\n",
       "      <td>1</td>\n",
       "    </tr>\n",
       "    <tr>\n",
       "      <th>...</th>\n",
       "      <td>...</td>\n",
       "      <td>...</td>\n",
       "      <td>...</td>\n",
       "      <td>...</td>\n",
       "      <td>...</td>\n",
       "      <td>...</td>\n",
       "      <td>...</td>\n",
       "      <td>...</td>\n",
       "      <td>...</td>\n",
       "      <td>...</td>\n",
       "    </tr>\n",
       "    <tr>\n",
       "      <th>1822</th>\n",
       "      <td>USW00093134</td>\n",
       "      <td>LOS ANGELES DOWNTOWN USC, CA US</td>\n",
       "      <td>1.12</td>\n",
       "      <td>66</td>\n",
       "      <td>55</td>\n",
       "      <td>270.0</td>\n",
       "      <td>260.0</td>\n",
       "      <td>8.9</td>\n",
       "      <td>18.1</td>\n",
       "      <td>1</td>\n",
       "    </tr>\n",
       "    <tr>\n",
       "      <th>1823</th>\n",
       "      <td>USW00093134</td>\n",
       "      <td>LOS ANGELES DOWNTOWN USC, CA US</td>\n",
       "      <td>4.70</td>\n",
       "      <td>56</td>\n",
       "      <td>47</td>\n",
       "      <td>90.0</td>\n",
       "      <td>260.0</td>\n",
       "      <td>14.1</td>\n",
       "      <td>21.0</td>\n",
       "      <td>1</td>\n",
       "    </tr>\n",
       "    <tr>\n",
       "      <th>1824</th>\n",
       "      <td>USW00093134</td>\n",
       "      <td>LOS ANGELES DOWNTOWN USC, CA US</td>\n",
       "      <td>1.57</td>\n",
       "      <td>65</td>\n",
       "      <td>42</td>\n",
       "      <td>340.0</td>\n",
       "      <td>360.0</td>\n",
       "      <td>10.1</td>\n",
       "      <td>18.1</td>\n",
       "      <td>0</td>\n",
       "    </tr>\n",
       "    <tr>\n",
       "      <th>1825</th>\n",
       "      <td>USW00093134</td>\n",
       "      <td>LOS ANGELES DOWNTOWN USC, CA US</td>\n",
       "      <td>0.45</td>\n",
       "      <td>69</td>\n",
       "      <td>44</td>\n",
       "      <td>260.0</td>\n",
       "      <td>260.0</td>\n",
       "      <td>6.9</td>\n",
       "      <td>12.1</td>\n",
       "      <td>0</td>\n",
       "    </tr>\n",
       "    <tr>\n",
       "      <th>1826</th>\n",
       "      <td>USW00093134</td>\n",
       "      <td>LOS ANGELES DOWNTOWN USC, CA US</td>\n",
       "      <td>1.57</td>\n",
       "      <td>70</td>\n",
       "      <td>43</td>\n",
       "      <td>350.0</td>\n",
       "      <td>350.0</td>\n",
       "      <td>12.1</td>\n",
       "      <td>19.9</td>\n",
       "      <td>0</td>\n",
       "    </tr>\n",
       "  </tbody>\n",
       "</table>\n",
       "<p>1827 rows × 10 columns</p>\n",
       "</div>"
      ],
      "text/plain": [
       "          STATION                             NAME  AWND  TMAX  TMIN   WDF2  \\\n",
       "0     USW00093134  LOS ANGELES DOWNTOWN USC, CA US  2.46    64    43   10.0   \n",
       "1     USW00093134  LOS ANGELES DOWNTOWN USC, CA US  2.01    65    47  270.0   \n",
       "2     USW00093134  LOS ANGELES DOWNTOWN USC, CA US  0.67    62    44  150.0   \n",
       "3     USW00093134  LOS ANGELES DOWNTOWN USC, CA US  1.34    69    55  270.0   \n",
       "4     USW00093134  LOS ANGELES DOWNTOWN USC, CA US  2.46    59    49  140.0   \n",
       "...           ...                              ...   ...   ...   ...    ...   \n",
       "1822  USW00093134  LOS ANGELES DOWNTOWN USC, CA US  1.12    66    55  270.0   \n",
       "1823  USW00093134  LOS ANGELES DOWNTOWN USC, CA US  4.70    56    47   90.0   \n",
       "1824  USW00093134  LOS ANGELES DOWNTOWN USC, CA US  1.57    65    42  340.0   \n",
       "1825  USW00093134  LOS ANGELES DOWNTOWN USC, CA US  0.45    69    44  260.0   \n",
       "1826  USW00093134  LOS ANGELES DOWNTOWN USC, CA US  1.57    70    43  350.0   \n",
       "\n",
       "       WDF5  WSF2  WSF5  PRCP  \n",
       "0      30.0   8.1  11.0     0  \n",
       "1      30.0   6.0   8.9     0  \n",
       "2     150.0  10.1  14.1     0  \n",
       "3     280.0   8.1  14.1     1  \n",
       "4     140.0  10.1  16.1     1  \n",
       "...     ...   ...   ...   ...  \n",
       "1822  260.0   8.9  18.1     1  \n",
       "1823  260.0  14.1  21.0     1  \n",
       "1824  360.0  10.1  18.1     0  \n",
       "1825  260.0   6.9  12.1     0  \n",
       "1826  350.0  12.1  19.9     0  \n",
       "\n",
       "[1827 rows x 10 columns]"
      ]
     },
     "execution_count": 114,
     "metadata": {},
     "output_type": "execute_result"
    }
   ],
   "source": [
    "df"
   ]
  },
  {
   "cell_type": "markdown",
   "id": "a97d04ee",
   "metadata": {},
   "source": [
    "# #Chi-Square test"
   ]
  },
  {
   "cell_type": "code",
   "execution_count": 115,
   "id": "6cfa0dae",
   "metadata": {},
   "outputs": [],
   "source": [
    "from sklearn.preprocessing import LabelEncoder\n",
    "label_encoder = LabelEncoder()\n",
    "df['STATION'] = label_encoder.fit_transform(df['STATION'])\n",
    "df['NAME'] = label_encoder.fit_transform(df['NAME'])"
   ]
  },
  {
   "cell_type": "code",
   "execution_count": 116,
   "id": "60cd7a0a",
   "metadata": {},
   "outputs": [
    {
     "data": {
      "text/html": [
       "<div>\n",
       "<style scoped>\n",
       "    .dataframe tbody tr th:only-of-type {\n",
       "        vertical-align: middle;\n",
       "    }\n",
       "\n",
       "    .dataframe tbody tr th {\n",
       "        vertical-align: top;\n",
       "    }\n",
       "\n",
       "    .dataframe thead th {\n",
       "        text-align: right;\n",
       "    }\n",
       "</style>\n",
       "<table border=\"1\" class=\"dataframe\">\n",
       "  <thead>\n",
       "    <tr style=\"text-align: right;\">\n",
       "      <th></th>\n",
       "      <th>STATION</th>\n",
       "      <th>NAME</th>\n",
       "      <th>AWND</th>\n",
       "      <th>TMAX</th>\n",
       "      <th>TMIN</th>\n",
       "      <th>WDF2</th>\n",
       "      <th>WDF5</th>\n",
       "      <th>WSF2</th>\n",
       "      <th>WSF5</th>\n",
       "      <th>PRCP</th>\n",
       "    </tr>\n",
       "  </thead>\n",
       "  <tbody>\n",
       "    <tr>\n",
       "      <th>0</th>\n",
       "      <td>0</td>\n",
       "      <td>0</td>\n",
       "      <td>2.46</td>\n",
       "      <td>64</td>\n",
       "      <td>43</td>\n",
       "      <td>10.0</td>\n",
       "      <td>30.0</td>\n",
       "      <td>8.1</td>\n",
       "      <td>11.0</td>\n",
       "      <td>0</td>\n",
       "    </tr>\n",
       "    <tr>\n",
       "      <th>1</th>\n",
       "      <td>0</td>\n",
       "      <td>0</td>\n",
       "      <td>2.01</td>\n",
       "      <td>65</td>\n",
       "      <td>47</td>\n",
       "      <td>270.0</td>\n",
       "      <td>30.0</td>\n",
       "      <td>6.0</td>\n",
       "      <td>8.9</td>\n",
       "      <td>0</td>\n",
       "    </tr>\n",
       "    <tr>\n",
       "      <th>2</th>\n",
       "      <td>0</td>\n",
       "      <td>0</td>\n",
       "      <td>0.67</td>\n",
       "      <td>62</td>\n",
       "      <td>44</td>\n",
       "      <td>150.0</td>\n",
       "      <td>150.0</td>\n",
       "      <td>10.1</td>\n",
       "      <td>14.1</td>\n",
       "      <td>0</td>\n",
       "    </tr>\n",
       "    <tr>\n",
       "      <th>3</th>\n",
       "      <td>0</td>\n",
       "      <td>0</td>\n",
       "      <td>1.34</td>\n",
       "      <td>69</td>\n",
       "      <td>55</td>\n",
       "      <td>270.0</td>\n",
       "      <td>280.0</td>\n",
       "      <td>8.1</td>\n",
       "      <td>14.1</td>\n",
       "      <td>1</td>\n",
       "    </tr>\n",
       "    <tr>\n",
       "      <th>4</th>\n",
       "      <td>0</td>\n",
       "      <td>0</td>\n",
       "      <td>2.46</td>\n",
       "      <td>59</td>\n",
       "      <td>49</td>\n",
       "      <td>140.0</td>\n",
       "      <td>140.0</td>\n",
       "      <td>10.1</td>\n",
       "      <td>16.1</td>\n",
       "      <td>1</td>\n",
       "    </tr>\n",
       "  </tbody>\n",
       "</table>\n",
       "</div>"
      ],
      "text/plain": [
       "   STATION  NAME  AWND  TMAX  TMIN   WDF2   WDF5  WSF2  WSF5  PRCP\n",
       "0        0     0  2.46    64    43   10.0   30.0   8.1  11.0     0\n",
       "1        0     0  2.01    65    47  270.0   30.0   6.0   8.9     0\n",
       "2        0     0  0.67    62    44  150.0  150.0  10.1  14.1     0\n",
       "3        0     0  1.34    69    55  270.0  280.0   8.1  14.1     1\n",
       "4        0     0  2.46    59    49  140.0  140.0  10.1  16.1     1"
      ]
     },
     "execution_count": 116,
     "metadata": {},
     "output_type": "execute_result"
    }
   ],
   "source": [
    "df.head()"
   ]
  },
  {
   "cell_type": "code",
   "execution_count": 117,
   "id": "b2d7e772",
   "metadata": {},
   "outputs": [],
   "source": [
    "from sklearn.feature_selection import chi2"
   ]
  },
  {
   "cell_type": "code",
   "execution_count": 118,
   "id": "56d278ca",
   "metadata": {},
   "outputs": [],
   "source": [
    "X = df.drop(['PRCP'],axis=1)\n",
    "y = df['PRCP']"
   ]
  },
  {
   "cell_type": "code",
   "execution_count": 119,
   "id": "169d1d1b",
   "metadata": {},
   "outputs": [],
   "source": [
    "chi_scores = chi2(X,y)\n"
   ]
  },
  {
   "cell_type": "code",
   "execution_count": 120,
   "id": "e5760e76",
   "metadata": {},
   "outputs": [
    {
     "data": {
      "text/plain": [
       "(array([          nan,           nan,   79.05899558,  318.33894152,\n",
       "          54.00341786, 2310.12947627, 1828.05882977,   32.19213439,\n",
       "          83.73695329]),\n",
       " array([           nan,            nan, 6.02826182e-19, 3.33210470e-71,\n",
       "        2.00141159e-13, 0.00000000e+00, 0.00000000e+00, 1.39654983e-08,\n",
       "        5.65188246e-20]))"
      ]
     },
     "execution_count": 120,
     "metadata": {},
     "output_type": "execute_result"
    }
   ],
   "source": [
    "chi_scores"
   ]
  },
  {
   "cell_type": "code",
   "execution_count": 121,
   "id": "1c6ef8a8",
   "metadata": {},
   "outputs": [],
   "source": [
    "p_values = pd.Series(chi_scores[1],index = X.columns)\n",
    "p_values.sort_values(ascending = False , inplace = True)"
   ]
  },
  {
   "cell_type": "code",
   "execution_count": 122,
   "id": "24f97aaf",
   "metadata": {},
   "outputs": [
    {
     "data": {
      "text/plain": [
       "<AxesSubplot:>"
      ]
     },
     "execution_count": 122,
     "metadata": {},
     "output_type": "execute_result"
    },
    {
     "data": {
      "image/png": "[encoded data removed]",
      "text/plain": [
       "<Figure size 432x288 with 1 Axes>"
      ]
     },
     "metadata": {
      "needs_background": "light"
     },
     "output_type": "display_data"
    }
   ],
   "source": [
    "p_values.plot.bar()"
   ]
  },
  {
   "cell_type": "code",
   "execution_count": 123,
   "id": "57d4820a",
   "metadata": {},
   "outputs": [],
   "source": [
    "df=df.drop(['STATION',\"NAME\",'WSF2'],axis=1)\n"
   ]
  },
  {
   "cell_type": "markdown",
   "id": "e3d435ee",
   "metadata": {},
   "source": [
    "# # Splitting data to train and test"
   ]
  },
  {
   "cell_type": "code",
   "execution_count": 124,
   "id": "ff733d54",
   "metadata": {},
   "outputs": [],
   "source": [
    "from sklearn.model_selection import train_test_split\n",
    "y = df.PRCP.values\n",
    "X = df.drop('PRCP', axis=1)\n",
    "\n",
    "X_train, X_test, y_train, y_test = train_test_split(X, y, test_size=0.2, random_state=75)"
   ]
  },
  {
   "cell_type": "code",
   "execution_count": 125,
   "id": "ab5d0707",
   "metadata": {},
   "outputs": [
    {
     "data": {
      "text/html": [
       "<div>\n",
       "<style scoped>\n",
       "    .dataframe tbody tr th:only-of-type {\n",
       "        vertical-align: middle;\n",
       "    }\n",
       "\n",
       "    .dataframe tbody tr th {\n",
       "        vertical-align: top;\n",
       "    }\n",
       "\n",
       "    .dataframe thead th {\n",
       "        text-align: right;\n",
       "    }\n",
       "</style>\n",
       "<table border=\"1\" class=\"dataframe\">\n",
       "  <thead>\n",
       "    <tr style=\"text-align: right;\">\n",
       "      <th></th>\n",
       "      <th>AWND</th>\n",
       "      <th>TMAX</th>\n",
       "      <th>TMIN</th>\n",
       "      <th>WDF2</th>\n",
       "      <th>WDF5</th>\n",
       "      <th>WSF5</th>\n",
       "    </tr>\n",
       "  </thead>\n",
       "  <tbody>\n",
       "    <tr>\n",
       "      <th>791</th>\n",
       "      <td>3.13</td>\n",
       "      <td>59</td>\n",
       "      <td>51</td>\n",
       "      <td>100.0</td>\n",
       "      <td>100.0</td>\n",
       "      <td>14.1</td>\n",
       "    </tr>\n",
       "    <tr>\n",
       "      <th>1513</th>\n",
       "      <td>2.24</td>\n",
       "      <td>66</td>\n",
       "      <td>59</td>\n",
       "      <td>260.0</td>\n",
       "      <td>140.0</td>\n",
       "      <td>18.1</td>\n",
       "    </tr>\n",
       "    <tr>\n",
       "      <th>56</th>\n",
       "      <td>1.57</td>\n",
       "      <td>79</td>\n",
       "      <td>54</td>\n",
       "      <td>280.0</td>\n",
       "      <td>280.0</td>\n",
       "      <td>15.0</td>\n",
       "    </tr>\n",
       "    <tr>\n",
       "      <th>1785</th>\n",
       "      <td>0.45</td>\n",
       "      <td>75</td>\n",
       "      <td>51</td>\n",
       "      <td>270.0</td>\n",
       "      <td>270.0</td>\n",
       "      <td>12.1</td>\n",
       "    </tr>\n",
       "    <tr>\n",
       "      <th>522</th>\n",
       "      <td>1.12</td>\n",
       "      <td>73</td>\n",
       "      <td>64</td>\n",
       "      <td>260.0</td>\n",
       "      <td>270.0</td>\n",
       "      <td>13.0</td>\n",
       "    </tr>\n",
       "    <tr>\n",
       "      <th>...</th>\n",
       "      <td>...</td>\n",
       "      <td>...</td>\n",
       "      <td>...</td>\n",
       "      <td>...</td>\n",
       "      <td>...</td>\n",
       "      <td>...</td>\n",
       "    </tr>\n",
       "    <tr>\n",
       "      <th>1100</th>\n",
       "      <td>3.80</td>\n",
       "      <td>58</td>\n",
       "      <td>48</td>\n",
       "      <td>90.0</td>\n",
       "      <td>90.0</td>\n",
       "      <td>18.1</td>\n",
       "    </tr>\n",
       "    <tr>\n",
       "      <th>1292</th>\n",
       "      <td>1.57</td>\n",
       "      <td>85</td>\n",
       "      <td>65</td>\n",
       "      <td>260.0</td>\n",
       "      <td>270.0</td>\n",
       "      <td>13.0</td>\n",
       "    </tr>\n",
       "    <tr>\n",
       "      <th>926</th>\n",
       "      <td>1.34</td>\n",
       "      <td>87</td>\n",
       "      <td>70</td>\n",
       "      <td>270.0</td>\n",
       "      <td>270.0</td>\n",
       "      <td>13.0</td>\n",
       "    </tr>\n",
       "    <tr>\n",
       "      <th>374</th>\n",
       "      <td>2.24</td>\n",
       "      <td>64</td>\n",
       "      <td>55</td>\n",
       "      <td>100.0</td>\n",
       "      <td>100.0</td>\n",
       "      <td>17.0</td>\n",
       "    </tr>\n",
       "    <tr>\n",
       "      <th>922</th>\n",
       "      <td>1.12</td>\n",
       "      <td>90</td>\n",
       "      <td>72</td>\n",
       "      <td>270.0</td>\n",
       "      <td>280.0</td>\n",
       "      <td>15.0</td>\n",
       "    </tr>\n",
       "  </tbody>\n",
       "</table>\n",
       "<p>366 rows × 6 columns</p>\n",
       "</div>"
      ],
      "text/plain": [
       "      AWND  TMAX  TMIN   WDF2   WDF5  WSF5\n",
       "791   3.13    59    51  100.0  100.0  14.1\n",
       "1513  2.24    66    59  260.0  140.0  18.1\n",
       "56    1.57    79    54  280.0  280.0  15.0\n",
       "1785  0.45    75    51  270.0  270.0  12.1\n",
       "522   1.12    73    64  260.0  270.0  13.0\n",
       "...    ...   ...   ...    ...    ...   ...\n",
       "1100  3.80    58    48   90.0   90.0  18.1\n",
       "1292  1.57    85    65  260.0  270.0  13.0\n",
       "926   1.34    87    70  270.0  270.0  13.0\n",
       "374   2.24    64    55  100.0  100.0  17.0\n",
       "922   1.12    90    72  270.0  280.0  15.0\n",
       "\n",
       "[366 rows x 6 columns]"
      ]
     },
     "execution_count": 125,
     "metadata": {},
     "output_type": "execute_result"
    }
   ],
   "source": [
    "X_test"
   ]
  },
  {
   "cell_type": "markdown",
   "id": "2842055d",
   "metadata": {},
   "source": [
    "# #  logistic regression"
   ]
  },
  {
   "cell_type": "code",
   "execution_count": 126,
   "id": "87b77435",
   "metadata": {},
   "outputs": [
    {
     "data": {
      "text/plain": [
       "LogisticRegression()"
      ]
     },
     "execution_count": 126,
     "metadata": {},
     "output_type": "execute_result"
    }
   ],
   "source": [
    "from sklearn.linear_model import LogisticRegression\n",
    "model=LogisticRegression()\n",
    "model.fit(X_train,y_train)"
   ]
  },
  {
   "cell_type": "code",
   "execution_count": 127,
   "id": "6e167925",
   "metadata": {},
   "outputs": [
    {
     "data": {
      "text/plain": [
       "array([1, 1, 0, 0, 0, 0, 0, 0, 0, 0, 0, 0, 0, 0, 0, 0, 0, 0, 0, 0, 0, 0,\n",
       "       0, 0, 0, 0, 0, 0, 0, 0, 0, 0, 1, 0, 0, 0, 0, 0, 0, 1, 0, 0, 0, 0,\n",
       "       0, 0, 0, 0, 0, 0, 0, 0, 0, 0, 1, 0, 0, 0, 0, 0, 0, 1, 0, 0, 0, 0,\n",
       "       0, 0, 0, 0, 1, 0, 0, 0, 0, 0, 0, 0, 0, 1, 0, 0, 0, 0, 0, 0, 0, 0,\n",
       "       0, 0, 0, 0, 0, 0, 0, 0, 0, 0, 0, 0, 0, 0, 0, 0, 0, 0, 0, 0, 1, 0,\n",
       "       0, 0, 0, 0, 0, 1, 0, 0, 0, 0, 0, 1, 0, 0, 0, 0, 0, 1, 0, 0, 0, 0,\n",
       "       0, 0, 0, 0, 0, 0, 0, 0, 0, 0, 0, 0, 0, 0, 0, 0, 0, 0, 0, 0, 0, 1,\n",
       "       0, 0, 0, 0, 0, 0, 0, 0, 0, 0, 0, 0, 0, 0, 0, 0, 0, 0, 0, 0, 0, 0,\n",
       "       0, 0, 0, 0, 0, 0, 0, 0, 0, 0, 0, 0, 0, 0, 0, 0, 0, 0, 0, 0, 0, 0,\n",
       "       0, 0, 0, 0, 0, 0, 0, 0, 0, 1, 0, 0, 0, 0, 0, 0, 0, 1, 0, 1, 0, 0,\n",
       "       0, 0, 0, 0, 0, 0, 0, 0, 0, 0, 0, 0, 0, 0, 0, 0, 0, 0, 0, 0, 0, 0,\n",
       "       0, 0, 0, 1, 1, 0, 0, 1, 0, 0, 0, 0, 0, 0, 0, 0, 0, 0, 0, 0, 0, 0,\n",
       "       0, 0, 0, 0, 0, 0, 0, 0, 0, 0, 0, 0, 0, 0, 0, 0, 0, 0, 0, 0, 0, 0,\n",
       "       0, 0, 0, 0, 0, 0, 0, 0, 0, 0, 0, 0, 0, 0, 0, 0, 0, 0, 0, 0, 0, 0,\n",
       "       0, 0, 0, 0, 0, 0, 0, 0, 0, 0, 0, 0, 0, 0, 0, 0, 0, 0, 0, 0, 0, 0,\n",
       "       0, 1, 1, 0, 0, 0, 0, 0, 0, 0, 1, 0, 0, 0, 0, 0, 0, 0, 0, 0, 0, 0,\n",
       "       1, 0, 0, 0, 0, 0, 0, 0, 0, 1, 0, 0, 1, 0], dtype=int64)"
      ]
     },
     "execution_count": 127,
     "metadata": {},
     "output_type": "execute_result"
    }
   ],
   "source": [
    "y_pred_logistic=model.predict(X_test)\n",
    "y_pred_logistic"
   ]
  },
  {
   "cell_type": "markdown",
   "id": "2a7bf4c1",
   "metadata": {},
   "source": [
    "#  accuracy"
   ]
  },
  {
   "cell_type": "code",
   "execution_count": 130,
   "id": "0e3bf75d",
   "metadata": {},
   "outputs": [
    {
     "data": {
      "text/plain": [
       "0.9426229508196722"
      ]
     },
     "execution_count": 130,
     "metadata": {},
     "output_type": "execute_result"
    }
   ],
   "source": [
    "from sklearn.metrics import accuracy_score\n",
    "accuracy_score(y_test,y_pred_logistic)\n"
   ]
  },
  {
   "cell_type": "markdown",
   "id": "80bf0ae4",
   "metadata": {},
   "source": [
    "# Confusion Matrix"
   ]
  },
  {
   "cell_type": "code",
   "execution_count": 131,
   "id": "e583cce4",
   "metadata": {},
   "outputs": [
    {
     "name": "stdout",
     "output_type": "stream",
     "text": [
      "[[328   8]\n",
      " [ 13  17]]\n"
     ]
    }
   ],
   "source": [
    "from sklearn.metrics import confusion_matrix\n",
    "\n",
    "#Generate the confusion matrix\n",
    "cf_matrix = confusion_matrix(y_test, y_pred_logistic)\n",
    "\n",
    "print(cf_matrix)"
   ]
  },
  {
   "cell_type": "code",
   "execution_count": 132,
   "id": "a27a0cf0",
   "metadata": {},
   "outputs": [],
   "source": [
    "True_positive=17\n",
    "True_negative=328\n",
    "False_positive=8\n",
    "False_negative=13"
   ]
  },
  {
   "cell_type": "markdown",
   "id": "73b8dccf",
   "metadata": {},
   "source": [
    "# precision"
   ]
  },
  {
   "cell_type": "code",
   "execution_count": 133,
   "id": "05de059d",
   "metadata": {},
   "outputs": [
    {
     "data": {
      "text/plain": [
       "0.68"
      ]
     },
     "execution_count": 133,
     "metadata": {},
     "output_type": "execute_result"
    }
   ],
   "source": [
    "precision=True_positive/(True_positive+False_positive)\n",
    "precision"
   ]
  },
  {
   "cell_type": "markdown",
   "id": "e18fa8b6",
   "metadata": {},
   "source": [
    "# recall"
   ]
  },
  {
   "cell_type": "code",
   "execution_count": 134,
   "id": "e87f86d9",
   "metadata": {},
   "outputs": [
    {
     "data": {
      "text/plain": [
       "0.5666666666666667"
      ]
     },
     "execution_count": 134,
     "metadata": {},
     "output_type": "execute_result"
    }
   ],
   "source": [
    "recall=True_positive/(True_positive+False_negative)\n",
    "recall"
   ]
  },
  {
   "cell_type": "markdown",
   "id": "d29f0d05",
   "metadata": {},
   "source": [
    "# F1"
   ]
  },
  {
   "cell_type": "code",
   "execution_count": 135,
   "id": "6b480c41",
   "metadata": {},
   "outputs": [
    {
     "data": {
      "text/plain": [
       "0.6181818181818183"
      ]
     },
     "execution_count": 135,
     "metadata": {},
     "output_type": "execute_result"
    }
   ],
   "source": [
    "F1 = 2 * (precision * recall) / (precision + recall)\n",
    "F1"
   ]
  },
  {
   "cell_type": "code",
   "execution_count": 136,
   "id": "962c4220",
   "metadata": {},
   "outputs": [],
   "source": [
    "# Adjust threshold for minimum false negative\n",
    "def predict_threshold (model,X_test,thresholds):\n",
    "    import numpy as np\n",
    "    return np.where(model.predict_proba(X_test)[:,1]>thresholds,1,0) "
   ]
  },
  {
   "cell_type": "code",
   "execution_count": 137,
   "id": "33d6fca4",
   "metadata": {},
   "outputs": [
    {
     "name": "stdout",
     "output_type": "stream",
     "text": [
      "Threshold : 0.0\n",
      "[[  0 336]\n",
      " [  0  30]]\n",
      "Threshold : 0.1\n",
      "[[287  49]\n",
      " [  5  25]]\n",
      "Threshold : 0.2\n",
      "[[311  25]\n",
      " [  9  21]]\n",
      "Threshold : 0.30000000000000004\n",
      "[[320  16]\n",
      " [ 11  19]]\n",
      "Threshold : 0.4\n",
      "[[325  11]\n",
      " [ 12  18]]\n",
      "Threshold : 0.5\n",
      "[[328   8]\n",
      " [ 13  17]]\n",
      "Threshold : 0.6000000000000001\n",
      "[[331   5]\n",
      " [ 13  17]]\n",
      "Threshold : 0.7000000000000001\n",
      "[[333   3]\n",
      " [ 15  15]]\n",
      "Threshold : 0.8\n",
      "[[334   2]\n",
      " [ 21   9]]\n",
      "Threshold : 0.9\n",
      "[[336   0]\n",
      " [ 22   8]]\n"
     ]
    }
   ],
   "source": [
    "import numpy as np\n",
    "from sklearn.metrics import confusion_matrix\n",
    "for thr in np.arange(0,1.0,0.1):\n",
    "    y_predict = predict_threshold(model,X_test,thr)\n",
    "    print(\"Threshold :\",thr)\n",
    "    print(confusion_matrix(y_test,y_predict))"
   ]
  },
  {
   "cell_type": "code",
   "execution_count": 138,
   "id": "60509f0e",
   "metadata": {},
   "outputs": [],
   "source": [
    "from sklearn.metrics import roc_curve, roc_auc_score"
   ]
  },
  {
   "cell_type": "code",
   "execution_count": 139,
   "id": "24fa8f44",
   "metadata": {},
   "outputs": [],
   "source": [
    "tpr,fpr,thresholds = roc_curve(y_test,model.predict_proba(X_test)[:,1])"
   ]
  },
  {
   "cell_type": "code",
   "execution_count": 140,
   "id": "5808ef65",
   "metadata": {},
   "outputs": [
    {
     "data": {
      "text/plain": [
       "array([1.99493949e+00, 9.94939488e-01, 9.11297411e-01, 8.31565758e-01,\n",
       "       7.12216944e-01, 7.02791554e-01, 6.43644296e-01, 4.24046161e-01,\n",
       "       4.09327895e-01, 4.04967449e-01, 3.97717652e-01, 2.37255604e-01,\n",
       "       2.14526647e-01, 2.06164010e-01, 1.94665267e-01, 1.46576932e-01,\n",
       "       1.44877319e-01, 1.36470838e-01, 1.35457176e-01, 1.21603503e-01,\n",
       "       1.17504814e-01, 9.19549099e-02, 9.11523446e-02, 8.74362726e-02,\n",
       "       8.59989971e-02, 3.21102340e-02, 3.14943403e-02, 2.85691384e-02,\n",
       "       2.73643677e-02, 1.62385518e-02, 1.58871928e-02, 1.57683219e-06])"
      ]
     },
     "execution_count": 140,
     "metadata": {},
     "output_type": "execute_result"
    }
   ],
   "source": [
    "thresholds"
   ]
  },
  {
   "cell_type": "code",
   "execution_count": 141,
   "id": "a6480688",
   "metadata": {},
   "outputs": [
    {
     "data": {
      "image/png": "[encoded data removed]",
      "text/plain": [
       "<Figure size 432x288 with 1 Axes>"
      ]
     },
     "metadata": {
      "needs_background": "light"
     },
     "output_type": "display_data"
    }
   ],
   "source": [
    "import matplotlib.pyplot as plt\n",
    "from sklearn.metrics import roc_curve,roc_auc_score\n",
    "%matplotlib inline\n",
    "fpr, tpr, thresholds = roc_curve(y_test, model.predict_proba(X_test)[:,1],drop_intermediate=False)\n",
    "plt.xlim([0.0, 1.0])\n",
    "plt.ylim([0.0, 1.0])\n",
    "plt.title('ROC curve')\n",
    "plt.xlabel('False Positive Rate ')\n",
    "plt.ylabel('True Positive Rate ')\n",
    "plt.plot(fpr, tpr,color='red',lw=7)\n",
    "plt.show()"
   ]
  },
  {
   "cell_type": "markdown",
   "id": "0e72c598",
   "metadata": {},
   "source": [
    "# ROC_AUC score"
   ]
  },
  {
   "cell_type": "code",
   "execution_count": 148,
   "id": "17805255",
   "metadata": {},
   "outputs": [
    {
     "data": {
      "text/plain": [
       "0.9324404761904762"
      ]
     },
     "execution_count": 148,
     "metadata": {},
     "output_type": "execute_result"
    }
   ],
   "source": [
    "roc_auc_score(y_test, model.predict_proba(X_test)[:,1])"
   ]
  },
  {
   "cell_type": "markdown",
   "id": "367066cc",
   "metadata": {},
   "source": [
    "# # decision tree classifier"
   ]
  },
  {
   "cell_type": "code",
   "execution_count": 143,
   "id": "61788d01",
   "metadata": {},
   "outputs": [],
   "source": [
    "from sklearn.tree import DecisionTreeClassifier\n",
    "from sklearn import metrics\n",
    "# Create Decision Tree classifer object\n",
    "clf = DecisionTreeClassifier()\n",
    "\n",
    "# Train Decision Tree Classifer\n",
    "clf = clf.fit(X_train,y_train)\n",
    "\n",
    "#Predict the response for test dataset\n",
    "y_pred_DTC = clf.predict(X_test)"
   ]
  },
  {
   "cell_type": "code",
   "execution_count": 144,
   "id": "62f83824",
   "metadata": {},
   "outputs": [
    {
     "name": "stdout",
     "output_type": "stream",
     "text": [
      "Accuracy: 0.9234972677595629\n"
     ]
    }
   ],
   "source": [
    "print(\"Accuracy:\",metrics.accuracy_score(y_test, y_pred_DTC))"
   ]
  },
  {
   "cell_type": "markdown",
   "id": "e69226a8",
   "metadata": {},
   "source": [
    "# # SVM classifier"
   ]
  },
  {
   "cell_type": "code",
   "execution_count": 145,
   "id": "568d5678",
   "metadata": {},
   "outputs": [],
   "source": [
    "from sklearn.svm import SVC\n",
    "model_SVC = SVC(kernel = 'rbf', random_state = 4)\n",
    "model_SVC.fit(X_train, y_train)\n",
    "\n",
    "y_pred_svm = model_SVC.decision_function(X_test)"
   ]
  },
  {
   "cell_type": "markdown",
   "id": "57426cde",
   "metadata": {},
   "source": [
    "# # ROC_AUC score and visualization for different models\n"
   ]
  },
  {
   "cell_type": "code",
   "execution_count": 147,
   "id": "ef1d1ec6",
   "metadata": {},
   "outputs": [
    {
     "data": {
      "image/png": "[encoded data removed]",
      "text/plain": [
       "<Figure size 500x500 with 1 Axes>"
      ]
     },
     "metadata": {
      "needs_background": "light"
     },
     "output_type": "display_data"
    }
   ],
   "source": [
    "from sklearn.metrics import roc_curve, auc\n",
    "\n",
    "logistic_fpr, logistic_tpr, threshold = roc_curve(y_test, model.predict_proba(X_test)[:,1],drop_intermediate=False)\n",
    "auc_logistic = auc(logistic_fpr, logistic_tpr)\n",
    "\n",
    "svm_fpr, svm_tpr, threshold = roc_curve(y_test, y_pred_svm)\n",
    "auc_svm = auc(svm_fpr, svm_tpr)\n",
    "\n",
    "DTC_fpr, DTC_tpr, threshold = roc_curve(y_test, y_pred_DTC)\n",
    "auc_DTC = auc(DTC_fpr, DTC_tpr)\n",
    "\n",
    "\n",
    "\n",
    "plt.figure(figsize=(5, 5), dpi=100)\n",
    "plt.plot(svm_fpr, svm_tpr, linestyle='-', label='SVM (auc = %0.3f)' % auc_svm)\n",
    "plt.plot(logistic_fpr, logistic_tpr, marker='.', label='Logistic (auc = %0.3f)' % auc_logistic)\n",
    "plt.plot(DTC_fpr, DTC_tpr, linestyle='-', label='DTC (auc = %0.3f)' % auc_DTC)\n",
    "\n",
    "plt.xlabel('False Positive Rate -->')\n",
    "plt.ylabel('True Positive Rate -->')\n",
    "\n",
    "plt.legend()\n",
    "\n",
    "plt.show()"
   ]
  }
 ],
 "metadata": {
  "kernelspec": {
   "display_name": "Python 3 (ipykernel)",
   "language": "python",
   "name": "python3"
  },
  "language_info": {
   "codemirror_mode": {
    "name": "ipython",
    "version": 3
   },
   "file_extension": ".py",
   "mimetype": "text/x-python",
   "name": "python",
   "nbconvert_exporter": "python",
   "pygments_lexer": "ipython3",
   "version": "3.9.0"
  }
 },
 "nbformat": 4,
 "nbformat_minor": 5
}
